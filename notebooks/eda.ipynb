{
 "cells": [
  {
   "cell_type": "code",
   "execution_count": 5,
   "metadata": {},
   "outputs": [
    {
     "data": {
      "text/plain": [
       "Ticker\n",
       "AAPL    1655\n",
       "AMZN    1655\n",
       "JPM     1655\n",
       "MSFT    1655\n",
       "XOM     1655\n",
       "dtype: int64"
      ]
     },
     "execution_count": 5,
     "metadata": {},
     "output_type": "execute_result"
    }
   ],
   "source": [
    "import pandas as pd\n",
    "data = pd.read_csv(\"../data/sp500_data.csv\").groupby(\"Ticker\").size()\n",
    "\n",
    "data"
   ]
  },
  {
   "cell_type": "code",
   "execution_count": 7,
   "metadata": {},
   "outputs": [
    {
     "name": "stderr",
     "output_type": "stream",
     "text": [
      "[*********************100%***********************]  1 of 1 completed\n",
      "[*********************100%***********************]  1 of 1 completed\n",
      "[*********************100%***********************]  1 of 1 completed\n",
      "[*********************100%***********************]  1 of 1 completed\n",
      "[*********************100%***********************]  1 of 1 completed"
     ]
    },
    {
     "name": "stdout",
     "output_type": "stream",
     "text": [
      "⚠️ Running TEST fetch\n",
      "Fetching AAPL\n",
      "Fetching MSFT\n",
      "Fetching JPM\n",
      "Fetching XOM\n",
      "Fetching AMZN\n",
      "Price        Date      Close       High        Low       Open       Volume  \\\n",
      "Ticker                  AAPL       AAPL       AAPL       AAPL         AAPL   \n",
      "0      2019-01-02  37.617844  37.839379  36.738855  36.896073  148158800.0   \n",
      "1      2019-01-03  33.870838  34.711713  33.825578  34.297229  365248800.0   \n",
      "2      2019-01-04  35.316765  35.385847  34.254358  34.428249  234428400.0   \n",
      "3      2019-01-07  35.238155  35.452545  34.754593  35.421577  219111200.0   \n",
      "4      2019-01-08  35.909893  36.164778  35.378690  35.626425  164101200.0   \n",
      "\n",
      "Price  Ticker Close High  Low  ... Close High Low Open Volume Close High  Low  \\\n",
      "Ticker         MSFT MSFT MSFT  ...   XOM  XOM XOM  XOM    XOM  AMZN AMZN AMZN   \n",
      "0        AAPL   NaN  NaN  NaN  ...   NaN  NaN NaN  NaN    NaN   NaN  NaN  NaN   \n",
      "1        AAPL   NaN  NaN  NaN  ...   NaN  NaN NaN  NaN    NaN   NaN  NaN  NaN   \n",
      "2        AAPL   NaN  NaN  NaN  ...   NaN  NaN NaN  NaN    NaN   NaN  NaN  NaN   \n",
      "3        AAPL   NaN  NaN  NaN  ...   NaN  NaN NaN  NaN    NaN   NaN  NaN  NaN   \n",
      "4        AAPL   NaN  NaN  NaN  ...   NaN  NaN NaN  NaN    NaN   NaN  NaN  NaN   \n",
      "\n",
      "Price  Open Volume  \n",
      "Ticker AMZN   AMZN  \n",
      "0       NaN    NaN  \n",
      "1       NaN    NaN  \n",
      "2       NaN    NaN  \n",
      "3       NaN    NaN  \n",
      "4       NaN    NaN  \n",
      "\n",
      "[5 rows x 27 columns]\n",
      "Shape: (8275, 27)\n",
      "Columns: MultiIndex([(  'Date',     ''),\n",
      "            ( 'Close', 'AAPL'),\n",
      "            (  'High', 'AAPL'),\n",
      "            (   'Low', 'AAPL'),\n",
      "            (  'Open', 'AAPL'),\n",
      "            ('Volume', 'AAPL'),\n",
      "            ('Ticker',     ''),\n",
      "            ( 'Close', 'MSFT'),\n",
      "            (  'High', 'MSFT'),\n",
      "            (   'Low', 'MSFT'),\n",
      "            (  'Open', 'MSFT'),\n",
      "            ('Volume', 'MSFT'),\n",
      "            ( 'Close',  'JPM'),\n",
      "            (  'High',  'JPM'),\n",
      "            (   'Low',  'JPM'),\n",
      "            (  'Open',  'JPM'),\n",
      "            ('Volume',  'JPM'),\n",
      "            ( 'Close',  'XOM'),\n",
      "            (  'High',  'XOM'),\n",
      "            (   'Low',  'XOM'),\n",
      "            (  'Open',  'XOM'),\n",
      "            ('Volume',  'XOM'),\n",
      "            ( 'Close', 'AMZN'),\n",
      "            (  'High', 'AMZN'),\n",
      "            (   'Low', 'AMZN'),\n",
      "            (  'Open', 'AMZN'),\n",
      "            ('Volume', 'AMZN')],\n",
      "           names=['Price', 'Ticker'])\n"
     ]
    },
    {
     "name": "stderr",
     "output_type": "stream",
     "text": [
      "\n"
     ]
    }
   ],
   "source": [
    "import yfinance as yf\n",
    "import pandas as pd\n",
    "from datetime import datetime\n",
    "\n",
    "print(\"⚠️ Running TEST fetch\")\n",
    "\n",
    "tickers = [\"AAPL\", \"MSFT\", \"JPM\", \"XOM\", \"AMZN\"]\n",
    "all_data = []\n",
    "for ticker in tickers:\n",
    "    print(f\"Fetching {ticker}\")\n",
    "    df = yf.download(ticker, start=\"2019-01-01\", end=datetime.today().strftime('%Y-%m-%d'), auto_adjust=True)\n",
    "    df = df.reset_index()\n",
    "    df[\"Ticker\"] = ticker\n",
    "    all_data.append(df)\n",
    "\n",
    "final = pd.concat(all_data, ignore_index=True)\n",
    "print(final.head())\n",
    "print(\"Shape:\", final.shape)\n",
    "print(\"Columns:\", final.columns)"
   ]
  },
  {
   "cell_type": "code",
   "execution_count": null,
   "metadata": {},
   "outputs": [
    {
     "name": "stdout",
     "output_type": "stream",
     "text": [
      "Fetching: AAPL\n",
      "Fetching: MSFT\n",
      "Fetching: JPM\n",
      "Fetching: XOM\n",
      "Fetching: AMZN\n",
      "✅ Data shape: (8275, 27)\n",
      "✅ Data columns: [('Date', ''), ('Close', 'AAPL'), ('High', 'AAPL'), ('Low', 'AAPL'), ('Open', 'AAPL'), ('Volume', 'AAPL'), ('Ticker', ''), ('Close', 'MSFT'), ('High', 'MSFT'), ('Low', 'MSFT'), ('Open', 'MSFT'), ('Volume', 'MSFT'), ('Close', 'JPM'), ('High', 'JPM'), ('Low', 'JPM'), ('Open', 'JPM'), ('Volume', 'JPM'), ('Close', 'XOM'), ('High', 'XOM'), ('Low', 'XOM'), ('Open', 'XOM'), ('Volume', 'XOM'), ('Close', 'AMZN'), ('High', 'AMZN'), ('Low', 'AMZN'), ('Open', 'AMZN'), ('Volume', 'AMZN')]\n",
      "Price        Date      Close       High        Low       Open       Volume  \\\n",
      "Ticker                  AAPL       AAPL       AAPL       AAPL         AAPL   \n",
      "0      2019-01-02  37.617844  37.839379  36.738855  36.896073  148158800.0   \n",
      "1      2019-01-03  33.870838  34.711713  33.825578  34.297229  365248800.0   \n",
      "2      2019-01-04  35.316765  35.385847  34.254358  34.428249  234428400.0   \n",
      "3      2019-01-07  35.238155  35.452545  34.754593  35.421577  219111200.0   \n",
      "4      2019-01-08  35.909893  36.164778  35.378690  35.626425  164101200.0   \n",
      "\n",
      "Price  Ticker Close High  Low  ... Close High Low Open Volume Close High  Low  \\\n",
      "Ticker         MSFT MSFT MSFT  ...   XOM  XOM XOM  XOM    XOM  AMZN AMZN AMZN   \n",
      "0        AAPL   NaN  NaN  NaN  ...   NaN  NaN NaN  NaN    NaN   NaN  NaN  NaN   \n",
      "1        AAPL   NaN  NaN  NaN  ...   NaN  NaN NaN  NaN    NaN   NaN  NaN  NaN   \n",
      "2        AAPL   NaN  NaN  NaN  ...   NaN  NaN NaN  NaN    NaN   NaN  NaN  NaN   \n",
      "3        AAPL   NaN  NaN  NaN  ...   NaN  NaN NaN  NaN    NaN   NaN  NaN  NaN   \n",
      "4        AAPL   NaN  NaN  NaN  ...   NaN  NaN NaN  NaN    NaN   NaN  NaN  NaN   \n",
      "\n",
      "Price  Open Volume  \n",
      "Ticker AMZN   AMZN  \n",
      "0       NaN    NaN  \n",
      "1       NaN    NaN  \n",
      "2       NaN    NaN  \n",
      "3       NaN    NaN  \n",
      "4       NaN    NaN  \n",
      "\n",
      "[5 rows x 27 columns]\n"
     ]
    }
   ],
   "source": [
    "import yfinance as yf\n",
    "import pandas as pd\n",
    "from datetime import datetime\n",
    "\n",
    "def fetch_ticker_data(ticker, start=\"2019-01-01\", end=None):\n",
    "    if end is None:\n",
    "        end = datetime.today().strftime('%Y-%m-%d')\n",
    "\n",
    "    print(f\"Fetching: {ticker}\")\n",
    "    df = yf.download(ticker, start=start, end=end, auto_adjust=True, progress=False)  # ✅ single ticker only\n",
    "    df = df.reset_index()\n",
    "    df[\"Ticker\"] = ticker\n",
    "    return df\n",
    "\n",
    "if __name__ == \"__main__\":\n",
    "    tickers = [\"AAPL\", \"MSFT\", \"JPM\", \"XOM\", \"AMZN\"]\n",
    "\n",
    "    all_data = []\n",
    "    for ticker in tickers:\n",
    "        df = fetch_ticker_data(ticker)  # ✅ correct usage\n",
    "        all_data.append(df)\n",
    "\n",
    "    final = pd.concat(all_data, axis=0,ignore_index=True)\n",
    "    print(\"✅ Data shape:\", final.shape)\n",
    "    print(\"✅ Data columns:\", final.columns.tolist())\n",
    "    print(final.head())\n",
    "\n",
    "   \n"
   ]
  },
  {
   "cell_type": "code",
   "execution_count": null,
   "metadata": {},
   "outputs": [],
   "source": []
  }
 ],
 "metadata": {
  "kernelspec": {
   "display_name": "Python 3",
   "language": "python",
   "name": "python3"
  },
  "language_info": {
   "codemirror_mode": {
    "name": "ipython",
    "version": 3
   },
   "file_extension": ".py",
   "mimetype": "text/x-python",
   "name": "python",
   "nbconvert_exporter": "python",
   "pygments_lexer": "ipython3",
   "version": "3.9.6"
  }
 },
 "nbformat": 4,
 "nbformat_minor": 2
}
